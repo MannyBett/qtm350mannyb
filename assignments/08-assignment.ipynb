{
 "cells": [
  {
   "cell_type": "markdown",
   "metadata": {},
   "source": [
    "## QTM 350: Data Science Computing\n",
    "\n",
    "### Assignment 08: SQL Practice with Python\n",
    "\n",
    "### Due 02 April 2025\n",
    "\n",
    "### Instructions:\n",
    "Use Python's `sqlite3` library to complete the following tasks. Connect to an in-memory SQLite database or create a file named `assignment08.db`.\n",
    "\n",
    "Ensure all your Python code and the query results (where applicable) are included in this notebook. Submit this `.ipynb` file on Canvas.\n",
    "\n",
    "Begin by running the setup code cell to create and populate the `drivers` table."
   ]
  },
  {
   "cell_type": "markdown",
   "metadata": {},
   "source": [
    "### Setup: Create and Populate Database"
   ]
  },
  {
   "cell_type": "code",
   "execution_count": 2,
   "metadata": {},
   "outputs": [
    {
     "name": "stdout",
     "output_type": "stream",
     "text": [
      "Database connected.\n",
      "Table 'drivers' created.\n",
      "14 records inserted into 'drivers'.\n",
      "\n",
      "--- Initial Drivers Data ---\n",
      "    driver_id         driver_name nationality      team  victories  podiums  \\\n",
      "0           1      Lewis Hamilton     British  Mercedes        103      182   \n",
      "1           2  Michael Schumacher      German   Ferrari         91      155   \n",
      "2           3        Ayrton Senna   Brazilian   McLaren         41       80   \n",
      "3           4    Sebastian Vettel      German  Red Bull         53      122   \n",
      "4           5          Niki Lauda    Austrian   Ferrari         25       54   \n",
      "5           6     Fernando Alonso     Spanish   Renault         32      101   \n",
      "6           7         Alain Prost      French   McLaren         51      106   \n",
      "7           8     Charles Leclerc  Monegasque   Ferrari          5       21   \n",
      "8           9      Max Verstappen       Dutch  Red Bull         52       92   \n",
      "9          10       Jenson Button     British  Brawn GP         15       50   \n",
      "10         11      Kimi Raikkonen     Finnish   Ferrari         21      103   \n",
      "11         12    Daniel Ricciardo  Australian  Red Bull          8       32   \n",
      "12         13     Valtteri Bottas     Finnish  Mercedes         10       67   \n",
      "13         14  Rubens Barrichello   Brazilian   Ferrari         11       68   \n",
      "\n",
      "    poles  points  \n",
      "0     103  4160.5  \n",
      "1      68  1566.0  \n",
      "2      65   614.0  \n",
      "3      57  3097.0  \n",
      "4      24   420.5  \n",
      "5      22  2061.0  \n",
      "6      33   798.5  \n",
      "7      18   699.0  \n",
      "8      28  2411.0  \n",
      "9       8  1235.0  \n",
      "10     18  1873.0  \n",
      "11      3  1274.0  \n",
      "12     20  1731.0  \n",
      "13     13   658.0  \n"
     ]
    }
   ],
   "source": [
    "import sqlite3\n",
    "import pandas as pd # Often useful for displaying results\n",
    "\n",
    "# Connect to the database (or create it)\n",
    "conn = sqlite3.connect('assignment08.db') \n",
    "# conn = sqlite3.connect(':memory:') # Option for in-memory database\n",
    "cursor = conn.cursor()\n",
    "print(\"Database connected.\")\n",
    "\n",
    "# --- Create drivers Table ---\n",
    "cursor.execute(\"DROP TABLE IF EXISTS drivers;\")\n",
    "create_table_sql = \"\"\"\n",
    "CREATE TABLE drivers(\n",
    "    driver_id INT PRIMARY KEY,\n",
    "    driver_name VARCHAR(30),\n",
    "    nationality VARCHAR(15),\n",
    "    team VARCHAR(30),\n",
    "    victories INT,\n",
    "    podiums INT,\n",
    "    poles INT,\n",
    "    points FLOAT\n",
    ");\n",
    "\"\"\"\n",
    "cursor.execute(create_table_sql)\n",
    "print(\"Table 'drivers' created.\")\n",
    "\n",
    "# --- Insert Data ---\n",
    "drivers_data = [\n",
    "    (1, 'Lewis Hamilton', 'British', 'Mercedes', 103, 182, 103, 4160.5),\n",
    "    (2, 'Michael Schumacher', 'German', 'Ferrari', 91, 155, 68, 1566.0),\n",
    "    (3, 'Ayrton Senna', 'Brazilian', 'McLaren', 41, 80, 65, 614.0),\n",
    "    (4, 'Sebastian Vettel', 'German', 'Red Bull', 53, 122, 57, 3097.0),\n",
    "    (5, 'Niki Lauda', 'Austrian', 'Ferrari', 25, 54, 24, 420.5),\n",
    "    (6, 'Fernando Alonso', 'Spanish', 'Renault', 32, 101, 22, 2061.0),\n",
    "    (7, 'Alain Prost', 'French', 'McLaren', 51, 106, 33, 798.5),\n",
    "    (8, 'Charles Leclerc', 'Monegasque', 'Ferrari', 5, 21, 18, 699.0),\n",
    "    (9, 'Max Verstappen', 'Dutch', 'Red Bull', 52, 92, 28, 2411.0),\n",
    "    (10, 'Jenson Button', 'British', 'Brawn GP', 15, 50, 8, 1235.0),\n",
    "    (11, 'Kimi Raikkonen', 'Finnish', 'Ferrari', 21, 103, 18, 1873.0),\n",
    "    (12, 'Daniel Ricciardo', 'Australian', 'Red Bull', 8, 32, 3, 1274.0),\n",
    "    (13, 'Valtteri Bottas', 'Finnish', 'Mercedes', 10, 67, 20, 1731.0),\n",
    "    (14, 'Rubens Barrichello', 'Brazilian', 'Ferrari', 11, 68, 13, 658.0)\n",
    "]\n",
    "\n",
    "insert_sql = \"INSERT INTO drivers VALUES (?, ?, ?, ?, ?, ?, ?, ?);\"\n",
    "cursor.executemany(insert_sql, drivers_data)\n",
    "conn.commit()\n",
    "print(f\"{cursor.rowcount} records inserted into 'drivers'.\")\n",
    "\n",
    "# --- Verify Data Insertion ---\n",
    "print(\"\\n--- Initial Drivers Data ---\")\n",
    "df_initial = pd.read_sql_query(\"SELECT * FROM drivers;\", conn)\n",
    "print(df_initial)"
   ]
  },
  {
   "cell_type": "markdown",
   "metadata": {},
   "source": [
    "GitHub CoPilot was used in the develop of the code"
   ]
  },
  {
   "cell_type": "markdown",
   "metadata": {},
   "source": [
    "1) List drivers ordered by `team` alphabetically and then by `victories` in descending order."
   ]
  },
  {
   "cell_type": "code",
   "execution_count": 21,
   "metadata": {},
   "outputs": [
    {
     "name": "stdout",
     "output_type": "stream",
     "text": [
      "    driver_id         driver_name      team  victories\n",
      "0          10       Jenson Button  Brawn GP         15\n",
      "1           2  Michael Schumacher   Ferrari         91\n",
      "2           5          Niki Lauda   Ferrari         25\n",
      "3          11      Kimi Raikkonen   Ferrari         21\n",
      "4          14  Rubens Barrichello   Ferrari         11\n",
      "5           8     Charles Leclerc   Ferrari          5\n",
      "6           7         Alain Prost   McLaren         51\n",
      "7           3        Ayrton Senna   McLaren         41\n",
      "8           1      Lewis Hamilton  Mercedes        103\n",
      "9          13     Valtteri Bottas  Mercedes         10\n",
      "10          4    Sebastian Vettel  Red Bull         53\n",
      "11          9      Max Verstappen  Red Bull         52\n",
      "12         12    Daniel Ricciardo  Red Bull          8\n",
      "13          6     Fernando Alonso   Renault         32\n"
     ]
    }
   ],
   "source": [
    "first_table = pd.read_sql_query(\"SELECT driver_id, driver_name, team, victories FROM drivers ORDER BY team ASC, victories DESC\", conn)\n",
    "print(first_table)"
   ]
  },
  {
   "cell_type": "markdown",
   "metadata": {},
   "source": [
    "2) List drivers who have won more races than the average number of victories across all drivers."
   ]
  },
  {
   "cell_type": "code",
   "execution_count": 22,
   "metadata": {},
   "outputs": [
    {
     "name": "stdout",
     "output_type": "stream",
     "text": [
      "   driver_id         driver_name      team  victories\n",
      "0          1      Lewis Hamilton  Mercedes        103\n",
      "1          2  Michael Schumacher   Ferrari         91\n",
      "2          4    Sebastian Vettel  Red Bull         53\n",
      "3          9      Max Verstappen  Red Bull         52\n",
      "4          7         Alain Prost   McLaren         51\n",
      "5          3        Ayrton Senna   McLaren         41\n"
     ]
    }
   ],
   "source": [
    "second_table = pd.read_sql_query(\"SELECT driver_id, driver_name, team, victories FROM drivers WHERE victories > (SELECT AVG(victories) FROM drivers) ORDER BY victories DESC\", conn)\n",
    "print(second_table)"
   ]
  },
  {
   "cell_type": "markdown",
   "metadata": {},
   "source": [
    "3) Find all drivers with more than 50 podiums OR who drive for the 'Ferrari' team."
   ]
  },
  {
   "cell_type": "code",
   "execution_count": 23,
   "metadata": {},
   "outputs": [
    {
     "name": "stdout",
     "output_type": "stream",
     "text": [
      "    driver_id         driver_name      team  podiums\n",
      "0           1      Lewis Hamilton  Mercedes      182\n",
      "1           2  Michael Schumacher   Ferrari      155\n",
      "2           4    Sebastian Vettel  Red Bull      122\n",
      "3           7         Alain Prost   McLaren      106\n",
      "4          11      Kimi Raikkonen   Ferrari      103\n",
      "5           6     Fernando Alonso   Renault      101\n",
      "6           9      Max Verstappen  Red Bull       92\n",
      "7           3        Ayrton Senna   McLaren       80\n",
      "8          14  Rubens Barrichello   Ferrari       68\n",
      "9          13     Valtteri Bottas  Mercedes       67\n",
      "10          5          Niki Lauda   Ferrari       54\n",
      "11          8     Charles Leclerc   Ferrari       21\n"
     ]
    }
   ],
   "source": [
    "third_table = pd.read_sql_query(\"SELECT driver_id, driver_name, team, podiums FROM drivers WHERE podiums > 50 OR team = 'Ferrari' ORDER BY podiums DESC\", conn)\n",
    "print(third_table)"
   ]
  },
  {
   "cell_type": "markdown",
   "metadata": {},
   "source": [
    "4) Count the number of drivers for each `nationality`, but only include drivers who have more than 40 `podiums`. Order the result by count in descending order."
   ]
  },
  {
   "cell_type": "code",
   "execution_count": 24,
   "metadata": {},
   "outputs": [
    {
     "name": "stdout",
     "output_type": "stream",
     "text": [
      "  nationality  driver_count\n",
      "0      German             2\n",
      "1     Finnish             2\n",
      "2     British             2\n",
      "3   Brazilian             2\n",
      "4     Spanish             1\n",
      "5      French             1\n",
      "6       Dutch             1\n",
      "7    Austrian             1\n"
     ]
    }
   ],
   "source": [
    "fourth_table = pd.read_sql_query(\"SELECT nationality, COUNT(*) AS driver_count FROM drivers WHERE podiums > 40 GROUP BY nationality ORDER BY driver_count DESC\", conn)\n",
    "print(fourth_table)"
   ]
  },
  {
   "cell_type": "markdown",
   "metadata": {},
   "source": [
    "5) Calculate the average `points` for each `team`, rounded to two decimal places."
   ]
  },
  {
   "cell_type": "code",
   "execution_count": 25,
   "metadata": {},
   "outputs": [
    {
     "name": "stdout",
     "output_type": "stream",
     "text": [
      "       team  average_points\n",
      "0  Mercedes         2945.75\n",
      "1  Red Bull         2260.67\n",
      "2   Renault         2061.00\n",
      "3  Brawn GP         1235.00\n",
      "4   Ferrari         1043.30\n",
      "5   McLaren          706.25\n"
     ]
    }
   ],
   "source": [
    "fifth_table = pd.read_sql_query(\"SELECT team, ROUND(AVG(points), 2) AS average_points FROM drivers GROUP BY team ORDER BY average_points DESC\", conn)\n",
    "print(fifth_table)"
   ]
  },
  {
   "cell_type": "markdown",
   "metadata": {},
   "source": [
    "6) List drivers who are in the top 20% based on their `points`."
   ]
  },
  {
   "cell_type": "code",
   "execution_count": 26,
   "metadata": {},
   "outputs": [
    {
     "name": "stdout",
     "output_type": "stream",
     "text": [
      "        driver_name      team  points\n",
      "0    Lewis Hamilton  Mercedes  4160.5\n",
      "1  Sebastian Vettel  Red Bull  3097.0\n",
      "2    Max Verstappen  Red Bull  2411.0\n",
      "[(1, 'Lewis Hamilton', 'British', 'Mercedes', 103, 182, 103, 4160.5), (2, 'Michael Schumacher', 'German', 'Ferrari', 91, 155, 68, 1566.0), (3, 'Ayrton Senna', 'Brazilian', 'McLaren', 41, 80, 65, 614.0), (4, 'Sebastian Vettel', 'German', 'Red Bull', 53, 122, 57, 3097.0), (5, 'Niki Lauda', 'Austrian', 'Ferrari', 25, 54, 24, 420.5), (6, 'Fernando Alonso', 'Spanish', 'Renault', 32, 101, 22, 2061.0), (7, 'Alain Prost', 'French', 'McLaren', 51, 106, 33, 798.5), (8, 'Charles Leclerc', 'Monegasque', 'Ferrari', 5, 21, 18, 699.0), (9, 'Max Verstappen', 'Dutch', 'Red Bull', 52, 92, 28, 2411.0), (10, 'Jenson Button', 'British', 'Brawn GP', 15, 50, 8, 1235.0), (11, 'Kimi Raikkonen', 'Finnish', 'Ferrari', 21, 103, 18, 1873.0), (12, 'Daniel Ricciardo', 'Australian', 'Red Bull', 8, 32, 3, 1274.0), (13, 'Valtteri Bottas', 'Finnish', 'Mercedes', 10, 67, 20, 1731.0), (14, 'Rubens Barrichello', 'Brazilian', 'Ferrari', 11, 68, 13, 658.0)]\n"
     ]
    }
   ],
   "source": [
    "sixth_table = pd.read_sql_query(\"WITH ranked_drivers AS (SELECT driver_name, team, points, NTILE(5) OVER (ORDER BY points DESC) AS percentile_rank FROM drivers ) SELECT driver_name, team, points FROM ranked_drivers WHERE percentile_rank = 1 ORDER BY points DESC\", conn)\n",
    "print(sixth_table)\n",
    "print(drivers_data)"
   ]
  },
  {
   "cell_type": "markdown",
   "metadata": {},
   "source": [
    "7) Calculate the total `victories`, total `podiums`, and average `points` for drivers with 'German' `nationality`."
   ]
  },
  {
   "cell_type": "code",
   "execution_count": 27,
   "metadata": {},
   "outputs": [
    {
     "name": "stdout",
     "output_type": "stream",
     "text": [
      "   total_victories  total_podiums  average_points\n",
      "0              144            277          2331.5\n"
     ]
    }
   ],
   "source": [
    "seventh_table = pd.read_sql_query(\"SELECT SUM(victories) AS total_victories, SUM(podiums) AS total_podiums, ROUND(AVG(points), 2) AS average_points FROM drivers WHERE nationality = 'German'\", conn)\n",
    "print(seventh_table)"
   ]
  },
  {
   "cell_type": "markdown",
   "metadata": {},
   "source": [
    "8) List all drivers whose `driver_name` contains both the letter 'a' and the letter 'e' (case-insensitive)."
   ]
  },
  {
   "cell_type": "code",
   "execution_count": 28,
   "metadata": {},
   "outputs": [
    {
     "name": "stdout",
     "output_type": "stream",
     "text": [
      "           driver_name\n",
      "0       Lewis Hamilton\n",
      "1   Michael Schumacher\n",
      "2         Ayrton Senna\n",
      "3     Sebastian Vettel\n",
      "4      Fernando Alonso\n",
      "5      Charles Leclerc\n",
      "6       Max Verstappen\n",
      "7       Kimi Raikkonen\n",
      "8     Daniel Ricciardo\n",
      "9      Valtteri Bottas\n",
      "10  Rubens Barrichello\n"
     ]
    }
   ],
   "source": [
    "eighth_table = pd.read_sql_query(\"SELECT driver_name FROM drivers WHERE LOWER(driver_name) LIKE '%a%'AND LOWER(driver_name) LIKE '%e%'\", conn)\n",
    "print(eighth_table)"
   ]
  },
  {
   "cell_type": "markdown",
   "metadata": {},
   "source": [
    "9) Retrieve the driver with the most `victories` within each `team`."
   ]
  },
  {
   "cell_type": "code",
   "execution_count": 29,
   "metadata": {},
   "outputs": [
    {
     "name": "stdout",
     "output_type": "stream",
     "text": [
      "       team         driver_name  max_victories\n",
      "0  Brawn GP       Jenson Button             15\n",
      "1   Ferrari  Michael Schumacher             91\n",
      "2   McLaren         Alain Prost             51\n",
      "3  Mercedes      Lewis Hamilton            103\n",
      "4  Red Bull    Sebastian Vettel             53\n",
      "5   Renault     Fernando Alonso             32\n"
     ]
    }
   ],
   "source": [
    "ninth_table = pd.read_sql_query(\"SELECT team, driver_name, MAX(victories) AS max_victories FROM drivers GROUP BY team\", conn)\n",
    "print(ninth_table)"
   ]
  },
  {
   "cell_type": "markdown",
   "metadata": {},
   "source": [
    "10) List drivers whose `points` are below the average `points` for their respective `team`."
   ]
  },
  {
   "cell_type": "code",
   "execution_count": 30,
   "metadata": {},
   "outputs": [
    {
     "name": "stdout",
     "output_type": "stream",
     "text": [
      "          driver_name      team  points\n",
      "0        Ayrton Senna   McLaren   614.0\n",
      "1          Niki Lauda   Ferrari   420.5\n",
      "2     Charles Leclerc   Ferrari   699.0\n",
      "3    Daniel Ricciardo  Red Bull  1274.0\n",
      "4     Valtteri Bottas  Mercedes  1731.0\n",
      "5  Rubens Barrichello   Ferrari   658.0\n"
     ]
    }
   ],
   "source": [
    "tenth_table = pd.read_sql_query(\"SELECT driver_name, team, points FROM drivers WHERE points < (SELECT AVG(points) FROM drivers AS sub WHERE sub.team = drivers.team)\", conn)\n",
    "print(tenth_table)"
   ]
  },
  {
   "cell_type": "markdown",
   "metadata": {},
   "source": [
    "11) Cleanup: Close the database connection"
   ]
  },
  {
   "cell_type": "code",
   "execution_count": null,
   "metadata": {},
   "outputs": [],
   "source": [
    "conn.close()"
   ]
  }
 ],
 "metadata": {
  "kernelspec": {
   "display_name": "Python 3",
   "language": "python",
   "name": "python3"
  },
  "language_info": {
   "codemirror_mode": {
    "name": "ipython",
    "version": 3
   },
   "file_extension": ".py",
   "mimetype": "text/x-python",
   "name": "python",
   "nbconvert_exporter": "python",
   "pygments_lexer": "ipython3",
   "version": "3.11.1"
  }
 },
 "nbformat": 4,
 "nbformat_minor": 2
}
