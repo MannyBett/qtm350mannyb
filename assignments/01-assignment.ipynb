{
 "cells": [
  {
   "cell_type": "markdown",
   "metadata": {},
   "source": [
    "# QTM 350 - Data Science Computing\n",
    "\n",
    "## Assignment 01 - Computational Literacy\n",
    "### Due 29 January 2025\n",
    "\n",
    "### Instructions\n",
    "\n",
    "This assignment evaluates your understanding of topics covered in the first two weeks of class, including binary and hexadecimal number systems, ASCII encoding, and programming language fundamentals.\n",
    "\n",
    "You must complete this assignment individually. While you may use available resources such as notes, books, and AI tools, you are expected to submit original work. Please acknowledge all resources used, including input from classmates and AI. If you are unsure about permissible resources or proper acknowledgement, please consult the instructor.\n",
    "\n",
    "Present your solutions clearly and systematically, showing your problem-solving process. Please ensure that any code is well-commented.\n",
    "\n",
    "### Submission\n",
    "\n",
    "Please submit your solutions as either a single Jupyter notebook or a PDF file. Follow the instructions provided in each section carefully. Submit your completed assignment to Canvas or via email (danilo.freire@emory.edu) by Wednesday, September 11, at 11:59 PM."
   ]
  },
  {
   "cell_type": "markdown",
   "metadata": {},
   "source": [
    "### Question 01\n",
    "\n",
    "Convert the decimal number 53 to binary. Show your work."
   ]
  },
  {
   "cell_type": "markdown",
   "metadata": {},
   "source": [
    "Since we have base 2 we must think about 2 to what power gets as close to 53 as possible. Thinking about that we get 2 to the power of 5 plus 2 to the power of 4 plus 2 to the power of 2 and plus 2 to the power of 0. Taking this into account we get a break down of 100000 = 32, 10000 = 16, 100 = 4, 1 = 1. Of we put this all together we get 110101 = 53. "
   ]
  },
  {
   "cell_type": "markdown",
   "metadata": {},
   "source": [
    "### Question 02\n",
    "\n",
    "Convert the binary number 1011001 to decimal. Show your work."
   ]
  },
  {
   "cell_type": "markdown",
   "metadata": {},
   "source": [
    "If we break this down we get 1000000 = 64, 10000 = 16, 1000 = 8, 1 = 1. Then we add them all up 64+16+8+1 = 89 therefore we get 1011001 = 89"
   ]
  },
  {
   "cell_type": "markdown",
   "metadata": {},
   "source": [
    "### Question 03\n",
    "\n",
    "What is the hexadecimal representation of the RGB colour (128, 64, 255)? Explain your answer."
   ]
  },
  {
   "cell_type": "markdown",
   "metadata": {},
   "source": [
    "128 = 10000000 64 = 1000000 255 = 11111111 group that together and we get 1000 0000 0100 0000 1111 1111. Using the translation from the slides in class we get the hex code for each of the 4 bit blocks and get the following 8 0 4 0 F F  which putting it together we get hex #8040FF."
   ]
  },
  {
   "cell_type": "markdown",
   "metadata": {},
   "source": [
    "### Question 04\n",
    "\n",
    "Convert the hexadecimal colour #2A9F3B to its RGB components. Show your steps."
   ]
  },
  {
   "cell_type": "markdown",
   "metadata": {},
   "source": [
    "Breaking down the hex code we get 2 = 0010, A = 1010, 9 = 1001, F = 1111, 3 = 0011, B = 1011. 00101010 10011111 00111011 now we translate the binary using the chart from the slides to the digits to get the RGB components of (42, 159, 59)"
   ]
  },
  {
   "cell_type": "markdown",
   "metadata": {},
   "source": [
    "### Question 05\n",
    "\n",
    "Using the coin representation system described in the lecture (c[quarters][dimes][nickels][pennies]), convert $1.37 to coin representation. Explain your reasoning."
   ]
  },
  {
   "cell_type": "markdown",
   "metadata": {},
   "source": [
    "The coin representation is c5102 since the easiest way to get to $1.37 is getting 5 quarters which is $1.25, getting 1 dime which is 10 cents and finally 2 pennines which is 2 cents. When that is all added up we get $1.37"
   ]
  },
  {
   "cell_type": "markdown",
   "metadata": {},
   "source": [
    "### Question 06\n",
    "\n",
    "What is the Unicode representation of the word \"Emory\"? Use the Unicode table provided in the lecture to find out."
   ]
  },
  {
   "cell_type": "markdown",
   "metadata": {},
   "source": [
    "E = \\u0045 m = \\u006D o = \\u006F r = \\u0072 y = \\u0079 now we put that together to get Emory = \\u0045\\u006D\\u006F\\u0072\\u0079"
   ]
  },
  {
   "cell_type": "markdown",
   "metadata": {},
   "source": [
    "### Question 07\n",
    "\n",
    "Explain the difference between ASCII and Unicode. Why was Unicode developed, and what advantages does it offer over ASCII?"
   ]
  },
  {
   "cell_type": "markdown",
   "metadata": {},
   "source": [
    "The difference between the ASCII and Unicode is that you can get letters with accents. Which is the whole reason why Unicode was developed and some of the advantages of Unicode over ASCII is that includes symbols, emojis, and all different types of characters from different languages and it translates all these characters in just 5 bytes."
   ]
  },
  {
   "cell_type": "markdown",
   "metadata": {},
   "source": [
    "### Question 08\n",
    "\n",
    "Describe the Von Neumann architecture and its significance in modern computing. What is the Von Neumann bottleneck, and how does it affect computer performance?"
   ]
  },
  {
   "cell_type": "markdown",
   "metadata": {},
   "source": [
    "We can think of the Von Neumann architecture as a compartmentalization of processes. Where we have a set space for code instructions and data. As stated in the slides from class this is the idea upon which all modern computing is built on. The Von Neumann bottleneck is that these processes happen in a sequential and singular manner which slows the computer performance speed."
   ]
  },
  {
   "cell_type": "markdown",
   "metadata": {},
   "source": [
    "### Question 09\n",
    "\n",
    "Compare and contrast low-level and high-level programming languages. Give two examples of each and explain when you might choose to use one over the other."
   ]
  },
  {
   "cell_type": "markdown",
   "metadata": {},
   "source": [
    "High level programming is more readable than low level programming and it is much easier for a person to understand.  Two low-level languages are assembly and C and two high-level languages are R and Python."
   ]
  },
  {
   "cell_type": "markdown",
   "metadata": {},
   "source": [
    "### Question 10\n",
    "\n",
    "Discuss the concept of abstraction in computer science, using the representation of images in computers as an example. How does this abstraction process impact data analysis and predictive modelling in image-related tasks?"
   ]
  },
  {
   "cell_type": "markdown",
   "metadata": {},
   "source": [
    "For example an image on a computer is just a grid of pixels and each pixel has a RGB value. The abstraction comes in when it takes an image and turns it into binary. This reduction process is when the RGB values of each pixel gets turned into binary. By having a numerical value compared to a categorical value like the name of a color, it allows for quantitative analysis and allows for predictive modeling in image related tasks."
   ]
  }
 ],
 "metadata": {
  "kernelspec": {
   "display_name": "base",
   "language": "python",
   "name": "python3"
  },
  "language_info": {
   "codemirror_mode": {
    "name": "ipython",
    "version": 3
   },
   "file_extension": ".py",
   "mimetype": "text/x-python",
   "name": "python",
   "nbconvert_exporter": "python",
   "pygments_lexer": "ipython3",
   "version": "3.12.2"
  }
 },
 "nbformat": 4,
 "nbformat_minor": 2
}
