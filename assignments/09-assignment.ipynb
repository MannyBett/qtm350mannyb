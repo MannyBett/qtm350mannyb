{
 "cells": [
  {
   "cell_type": "markdown",
   "metadata": {},
   "source": [
    "# Assignment 09: Join and Merge in SQL (SQLite Version)\n",
    "\n",
    "## Due 09 April 2025\n",
    "\n",
    "### Introduction\n",
    "\n",
    "For this assignment, you will continue working with SQL databases using SQLite. You should use Python to write the SQL queries. If possible, please submit your answers in HTML format. The data and questions are listed below."
   ]
  },
  {
   "cell_type": "code",
   "execution_count": 1,
   "metadata": {},
   "outputs": [],
   "source": [
    "import sqlite3\n",
    "import pandas as pd\n",
    "\n",
    "# Create in-memory database\n",
    "conn = sqlite3.connect(':memory:')\n",
    "\n",
    "# Create tables\n",
    "conn.execute('''\n",
    "CREATE TABLE directors (\n",
    "    director_id INTEGER PRIMARY KEY AUTOINCREMENT,\n",
    "    director_name TEXT,\n",
    "    country TEXT,\n",
    "    birth_year INTEGER,\n",
    "    awards INTEGER\n",
    ")''')\n",
    "\n",
    "conn.execute('''\n",
    "CREATE TABLE movies (\n",
    "    movie_id INTEGER PRIMARY KEY AUTOINCREMENT,\n",
    "    title TEXT,\n",
    "    director_id INTEGER,\n",
    "    release_year INTEGER,\n",
    "    box_office REAL,\n",
    "    rating REAL,\n",
    "    FOREIGN KEY (director_id) REFERENCES directors(director_id)\n",
    ")''')\n",
    "\n",
    "# Insert data\n",
    "directors_data = [\n",
    "    ('Christopher Nolan', 'UK', 1970, 5),\n",
    "    ('Greta Gerwig', 'USA', 1983, 3),\n",
    "    ('Bong Joon-ho', 'South Korea', 1969, 4),\n",
    "    ('Sofia Coppola', 'USA', 1971, 2),\n",
    "    ('Pedro Almodóvar', 'Spain', 1949, 6),\n",
    "    ('Agnès Varda', 'France', 1928, 4)\n",
    "]\n",
    "conn.executemany('INSERT INTO directors (director_name, country, birth_year, awards) VALUES (?,?,?,?)', directors_data)\n",
    "\n",
    "movies_data = [\n",
    "    ('Oppenheimer', 1, 2023, 950000000.00, 8.5),\n",
    "    ('Barbie', 2, 2023, 1440000000.00, 7.0),\n",
    "    ('Parasite', 3, 2019, 258773645.00, 8.9),\n",
    "    ('Lost in Translation', 4, 2003, 119723856.00, 7.7),\n",
    "    ('Pain and Glory', 5, 2019, 38219573.00, 7.5),\n",
    "    ('Faces Places', 6, 2017, 903996.00, 7.9),\n",
    "    ('Inception', 1, 2010, 836836967.00, 8.8),\n",
    "    ('Lady Bird', 2, 2017, 78965367.00, 7.4)\n",
    "]\n",
    "conn.executemany('''\n",
    "    INSERT INTO movies (title, director_id, release_year, box_office, rating)\n",
    "    VALUES (?,?,?,?,?)''', movies_data)\n",
    "conn.commit()"
   ]
  },
  {
   "cell_type": "markdown",
   "metadata": {},
   "source": [
    "1. Write a query using `INNER JOIN` to display the movie title, director name, and box office earnings for all movies, ordered by box office earnings in descending order"
   ]
  },
  {
   "cell_type": "code",
   "execution_count": 2,
   "metadata": {},
   "outputs": [
    {
     "name": "stdout",
     "output_type": "stream",
     "text": [
      "           movie_title      director_name  box_office_earnings\n",
      "0               Barbie       Greta Gerwig         1.440000e+09\n",
      "1          Oppenheimer  Christopher Nolan         9.500000e+08\n",
      "2            Inception  Christopher Nolan         8.368370e+08\n",
      "3             Parasite       Bong Joon-ho         2.587736e+08\n",
      "4  Lost in Translation      Sofia Coppola         1.197239e+08\n",
      "5            Lady Bird       Greta Gerwig         7.896537e+07\n",
      "6       Pain and Glory    Pedro Almodóvar         3.821957e+07\n",
      "7         Faces Places        Agnès Varda         9.039960e+05\n"
     ]
    }
   ],
   "source": [
    "# Write your anwer here\n",
    "table1 = pd.read_sql_query(\"\"\"\n",
    "SELECT \n",
    "    movies.title AS movie_title,\n",
    "    directors.director_name AS director_name,\n",
    "    movies.box_office AS box_office_earnings\n",
    "FROM \n",
    "    movies\n",
    "INNER JOIN \n",
    "    directors\n",
    "ON \n",
    "    movies.director_id = directors.director_id\n",
    "ORDER BY \n",
    "    movies.box_office DESC;\n",
    "\"\"\", conn)\n",
    "print(table1)"
   ]
  },
  {
   "cell_type": "markdown",
   "metadata": {},
   "source": [
    "2. Using a `LEFT JOIN`, find all directors and count the number of movies they have directed."
   ]
  },
  {
   "cell_type": "code",
   "execution_count": 3,
   "metadata": {},
   "outputs": [
    {
     "name": "stdout",
     "output_type": "stream",
     "text": [
      "       director_name  movie_count\n",
      "0  Christopher Nolan            2\n",
      "1       Greta Gerwig            2\n",
      "2       Bong Joon-ho            1\n",
      "3      Sofia Coppola            1\n",
      "4    Pedro Almodóvar            1\n",
      "5        Agnès Varda            1\n"
     ]
    }
   ],
   "source": [
    "# Write your answer here\n",
    "table2 = pd.read_sql_query(\"\"\"\n",
    "SELECT \n",
    "    directors.director_name AS director_name,\n",
    "    COUNT(movies.movie_id) AS movie_count\n",
    "FROM \n",
    "    directors\n",
    "LEFT JOIN \n",
    "    movies\n",
    "ON \n",
    "    directors.director_id = movies.director_id\n",
    "GROUP BY \n",
    "    directors.director_id\n",
    "ORDER BY \n",
    "    movie_count DESC;\n",
    "\"\"\", conn)\n",
    "print(table2)"
   ]
  },
  {
   "cell_type": "markdown",
   "metadata": {},
   "source": [
    "3. Write a `SELF JOIN` query to compare the ratings of movies by the same director. Show only pairs where the second movie has a higher rating than the first."
   ]
  },
  {
   "cell_type": "code",
   "execution_count": 4,
   "metadata": {},
   "outputs": [
    {
     "name": "stdout",
     "output_type": "stream",
     "text": [
      "       movie_1    movie_2  rating_1  rating_2      director_name\n",
      "0  Oppenheimer  Inception       8.5       8.8  Christopher Nolan\n",
      "1       Barbie  Lady Bird       7.0       7.4       Greta Gerwig\n"
     ]
    }
   ],
   "source": [
    "# Write your answer here\n",
    "table3 = pd.read_sql_query(\"\"\"\n",
    "SELECT \n",
    "    m1.title AS movie_1,\n",
    "    m2.title AS movie_2,\n",
    "    m1.rating AS rating_1,\n",
    "    m2.rating AS rating_2,\n",
    "    d.director_name AS director_name\n",
    "FROM \n",
    "    movies m1\n",
    "JOIN \n",
    "    movies m2\n",
    "ON \n",
    "    m1.director_id = m2.director_id AND m1.movie_id < m2.movie_id\n",
    "JOIN \n",
    "    directors d\n",
    "ON \n",
    "    m1.director_id = d.director_id\n",
    "WHERE \n",
    "    m2.rating > m1.rating\n",
    "ORDER BY \n",
    "    d.director_name, m1.title, m2.title;\n",
    "\"\"\", conn)\n",
    "print(table3)"
   ]
  },
  {
   "cell_type": "markdown",
   "metadata": {},
   "source": [
    "4. Using appropriate joins, find directors who have made movies with above-average box office earnings (compared to all movies in the database)."
   ]
  },
  {
   "cell_type": "code",
   "execution_count": 5,
   "metadata": {},
   "outputs": [
    {
     "name": "stdout",
     "output_type": "stream",
     "text": [
      "       director_name  movie_title  box_office_earnings\n",
      "0       Greta Gerwig       Barbie         1.440000e+09\n",
      "1  Christopher Nolan  Oppenheimer         9.500000e+08\n",
      "2  Christopher Nolan    Inception         8.368370e+08\n"
     ]
    }
   ],
   "source": [
    "# Write your answer here\n",
    "table4 = pd.read_sql_query(\"\"\"\n",
    "SELECT \n",
    "    d.director_name AS director_name,\n",
    "    m.title AS movie_title,\n",
    "    m.box_office AS box_office_earnings\n",
    "FROM \n",
    "    movies m\n",
    "JOIN \n",
    "    directors d\n",
    "ON \n",
    "    m.director_id = d.director_id\n",
    "WHERE \n",
    "    m.box_office > (SELECT AVG(box_office) FROM movies)\n",
    "ORDER BY \n",
    "    m.box_office DESC;\n",
    "\"\"\", conn)\n",
    "print(table4)"
   ]
  },
  {
   "cell_type": "markdown",
   "metadata": {},
   "source": [
    "5. Create a query using `CROSS JOIN` to show all possible combinations of directors and movies, even if they did not direct them. Limit the output to 10 rows."
   ]
  },
  {
   "cell_type": "code",
   "execution_count": 6,
   "metadata": {},
   "outputs": [
    {
     "name": "stdout",
     "output_type": "stream",
     "text": [
      "       director_name          movie_title\n",
      "0  Christopher Nolan          Oppenheimer\n",
      "1  Christopher Nolan               Barbie\n",
      "2  Christopher Nolan             Parasite\n",
      "3  Christopher Nolan  Lost in Translation\n",
      "4  Christopher Nolan       Pain and Glory\n",
      "5  Christopher Nolan         Faces Places\n",
      "6  Christopher Nolan            Inception\n",
      "7  Christopher Nolan            Lady Bird\n",
      "8       Greta Gerwig          Oppenheimer\n",
      "9       Greta Gerwig               Barbie\n"
     ]
    }
   ],
   "source": [
    "# Write your answer here\n",
    "table5 = pd.read_sql_query(\"\"\"\n",
    "SELECT \n",
    "    d.director_name AS director_name,\n",
    "    m.title AS movie_title\n",
    "FROM \n",
    "    directors d\n",
    "CROSS JOIN \n",
    "    movies m\n",
    "LIMIT 10;\n",
    "\"\"\", conn)\n",
    "print(table5)"
   ]
  },
  {
   "cell_type": "markdown",
   "metadata": {},
   "source": [
    "6. Write a query that uses `UNION` to create a list of all director names and movie titles in a single column. Label the column `name` and include a column (called `type`) indicating if it is a director or movie. Order the results by type and name."
   ]
  },
  {
   "cell_type": "code",
   "execution_count": 7,
   "metadata": {},
   "outputs": [
    {
     "name": "stdout",
     "output_type": "stream",
     "text": [
      "                   name      type\n",
      "0           Agnès Varda  Director\n",
      "1          Bong Joon-ho  Director\n",
      "2     Christopher Nolan  Director\n",
      "3          Greta Gerwig  Director\n",
      "4       Pedro Almodóvar  Director\n",
      "5         Sofia Coppola  Director\n",
      "6                Barbie     Movie\n",
      "7          Faces Places     Movie\n",
      "8             Inception     Movie\n",
      "9             Lady Bird     Movie\n",
      "10  Lost in Translation     Movie\n",
      "11          Oppenheimer     Movie\n",
      "12       Pain and Glory     Movie\n",
      "13             Parasite     Movie\n"
     ]
    }
   ],
   "source": [
    "# Write your answer here\n",
    "table6 = pd.read_sql_query(\"\"\"\n",
    "SELECT \n",
    "    director_name AS name,\n",
    "    'Director' AS type\n",
    "FROM \n",
    "    directors\n",
    "UNION\n",
    "SELECT \n",
    "    title AS name,\n",
    "    'Movie' AS type\n",
    "FROM \n",
    "    movies\n",
    "ORDER BY \n",
    "    type, name;\n",
    "\"\"\", conn)\n",
    "print(table6)"
   ]
  },
  {
   "cell_type": "markdown",
   "metadata": {},
   "source": [
    "7. Using appropriate joins, find the director with the highest average movie rating. Show only the row with the director's name, average rating, and number of movies."
   ]
  },
  {
   "cell_type": "code",
   "execution_count": 8,
   "metadata": {},
   "outputs": [
    {
     "name": "stdout",
     "output_type": "stream",
     "text": [
      "  director_name  average_rating  number_of_movies\n",
      "0  Bong Joon-ho             8.9                 1\n"
     ]
    }
   ],
   "source": [
    "# Write your answer here\n",
    "table7 = pd.read_sql_query(\"\"\"\n",
    "SELECT \n",
    "    d.director_name AS director_name,\n",
    "    ROUND(AVG(m.rating), 2) AS average_rating,\n",
    "    COUNT(m.movie_id) AS number_of_movies\n",
    "FROM \n",
    "    directors d\n",
    "JOIN \n",
    "    movies m\n",
    "ON \n",
    "    d.director_id = m.director_id\n",
    "GROUP BY \n",
    "    d.director_id\n",
    "ORDER BY \n",
    "    average_rating DESC\n",
    "LIMIT 1;\n",
    "\"\"\", conn)\n",
    "print(table7)"
   ]
  },
  {
   "cell_type": "markdown",
   "metadata": {},
   "source": [
    "8. Create a query using `LEFT JOIN` and `IS NULL` to find whether there are directors who have not directed any movies."
   ]
  },
  {
   "cell_type": "code",
   "execution_count": 10,
   "metadata": {},
   "outputs": [
    {
     "name": "stdout",
     "output_type": "stream",
     "text": [
      "Empty DataFrame\n",
      "Columns: [director_name]\n",
      "Index: []\n"
     ]
    }
   ],
   "source": [
    "# Write your answer here\n",
    "table8 = pd.read_sql_query(\"\"\"\n",
    "SELECT \n",
    "    d.director_name AS director_name\n",
    "FROM \n",
    "    directors d\n",
    "LEFT JOIN \n",
    "    movies m\n",
    "ON \n",
    "    d.director_id = m.director_id\n",
    "WHERE \n",
    "    m.movie_id IS NULL;\n",
    "\"\"\", conn)\n",
    "print(table8)"
   ]
  },
  {
   "cell_type": "markdown",
   "metadata": {},
   "source": [
    "9. Using appropriate joins, find pairs of movies released in the same year, along with their directors' names. Please do not match a movie with itself."
   ]
  },
  {
   "cell_type": "code",
   "execution_count": 11,
   "metadata": {},
   "outputs": [
    {
     "name": "stdout",
     "output_type": "stream",
     "text": [
      "        movie_1         director_1         movie_2       director_2  \\\n",
      "0  Faces Places        Agnès Varda       Lady Bird     Greta Gerwig   \n",
      "1      Parasite       Bong Joon-ho  Pain and Glory  Pedro Almodóvar   \n",
      "2   Oppenheimer  Christopher Nolan          Barbie     Greta Gerwig   \n",
      "\n",
      "   release_year  \n",
      "0          2017  \n",
      "1          2019  \n",
      "2          2023  \n"
     ]
    }
   ],
   "source": [
    "# Write your answer here\n",
    "table9 = pd.read_sql_query(\"\"\"\n",
    "SELECT \n",
    "    m1.title AS movie_1,\n",
    "    d1.director_name AS director_1,\n",
    "    m2.title AS movie_2,\n",
    "    d2.director_name AS director_2,\n",
    "    m1.release_year AS release_year\n",
    "FROM \n",
    "    movies m1\n",
    "JOIN \n",
    "    movies m2\n",
    "ON \n",
    "    m1.release_year = m2.release_year AND m1.movie_id < m2.movie_id\n",
    "JOIN \n",
    "    directors d1\n",
    "ON \n",
    "    m1.director_id = d1.director_id\n",
    "JOIN \n",
    "    directors d2\n",
    "ON \n",
    "    m2.director_id = d2.director_id\n",
    "ORDER BY \n",
    "    m1.release_year, m1.title, m2.title;\n",
    "\"\"\", conn)\n",
    "print(table9)"
   ]
  },
  {
   "cell_type": "markdown",
   "metadata": {},
   "source": [
    "10. Show the age of each director when they released their movies. Create a column entitled `age_at_release` in your output. Order the results by the director's name and the movie's release year."
   ]
  },
  {
   "cell_type": "code",
   "execution_count": 12,
   "metadata": {},
   "outputs": [
    {
     "name": "stdout",
     "output_type": "stream",
     "text": [
      "       director_name          movie_title  release_year  age_at_release\n",
      "0        Agnès Varda         Faces Places          2017              89\n",
      "1       Bong Joon-ho             Parasite          2019              50\n",
      "2  Christopher Nolan            Inception          2010              40\n",
      "3  Christopher Nolan          Oppenheimer          2023              53\n",
      "4       Greta Gerwig            Lady Bird          2017              34\n",
      "5       Greta Gerwig               Barbie          2023              40\n",
      "6    Pedro Almodóvar       Pain and Glory          2019              70\n",
      "7      Sofia Coppola  Lost in Translation          2003              32\n"
     ]
    }
   ],
   "source": [
    "# Write your answer here\n",
    "table10 = pd.read_sql_query( \"\"\"\n",
    "SELECT \n",
    "    d.director_name AS director_name,\n",
    "    m.title AS movie_title,\n",
    "    m.release_year AS release_year,\n",
    "    (m.release_year - d.birth_year) AS age_at_release\n",
    "FROM \n",
    "    directors d\n",
    "JOIN \n",
    "    movies m\n",
    "ON \n",
    "    d.director_id = m.director_id\n",
    "ORDER BY \n",
    "    d.director_name, m.release_year;\n",
    "\"\"\", conn)\n",
    "print(table10)"
   ]
  },
  {
   "cell_type": "markdown",
   "metadata": {},
   "source": [
    "Good luck! 😃"
   ]
  }
 ],
 "metadata": {
  "kernelspec": {
   "display_name": "Python 3",
   "language": "python",
   "name": "python3"
  },
  "language_info": {
   "codemirror_mode": {
    "name": "ipython",
    "version": 3
   },
   "file_extension": ".py",
   "mimetype": "text/x-python",
   "name": "python",
   "nbconvert_exporter": "python",
   "pygments_lexer": "ipython3",
   "version": "3.11.1"
  }
 },
 "nbformat": 4,
 "nbformat_minor": 4
}
